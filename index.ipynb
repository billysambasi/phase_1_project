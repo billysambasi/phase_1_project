{
 "cells": [
  {
   "cell_type": "markdown",
   "metadata": {},
   "source": [
    "## Phase 1 Project "
   ]
  },
  {
   "cell_type": "markdown",
   "metadata": {},
   "source": [
    "### The Problem Statement\n",
    "Your company is expanding in to new industries to diversify its portfolio. Specifically, they are interested in purchasing and operating airplanes for commercial and private enterprises, but do not know anything about the potential risks of aircraft. You are charged with determining which aircraft are the lowest risk for the company to start this new business endeavor. You must then translate your findings into actionable insights that the head of the new aviation division can use to help decide which aircraft to purchase."
   ]
  },
  {
   "cell_type": "markdown",
   "metadata": {},
   "source": [
    "### The Business Questions\n",
    "1. How have the number of aviation accidents changed over the years?\n",
    "2. Which aircraft models are involved in the most incidents and are certain engine types associated with higher incident rates?\n",
    "3. Are certain weather conditions more likely to result in severe injuries or fatalities?\n",
    "4. What are the most common types of aircraft damage in accidents?"
   ]
  },
  {
   "cell_type": "markdown",
   "metadata": {},
   "source": [
    "### Project Objectives\n",
    "\n",
    "- Analyze accident trends to understand aviation risks over time.\n",
    "- Determine the safest aircraft models and engine types.\n",
    "- Evaluate the impact of weather conditions on aircraft safety.\n",
    "- Assess aircraft damage patterns to identify durable and reliable models."
   ]
  },
  {
   "cell_type": "markdown",
   "metadata": {},
   "source": [
    "In understanding the `AviationData.csv`, necessary libraries are to be imported for proper data analysis and visualization."
   ]
  },
  {
   "cell_type": "code",
   "execution_count": 1,
   "metadata": {},
   "outputs": [],
   "source": [
    "# Importing necessary libraries\n",
    "import pandas as pd\n",
    "import numpy as np\n",
    "import matplotlib.pyplot as plt\n",
    "%matplotlib inline"
   ]
  },
  {
   "cell_type": "markdown",
   "metadata": {},
   "source": [
    "The `AviationData.csv` file is then loaded to `aviation_df` through Pandas. The `encoding` parameter `latin-1` was called to ensure decoding of the file is done correctly to avoid crashing. The `low_memory` parameter `False` was called to be able to optimize memory usage and ensure consistent column data types."
   ]
  },
  {
   "cell_type": "code",
   "execution_count": 2,
   "metadata": {},
   "outputs": [
    {
     "data": {
      "text/html": [
       "<div>\n",
       "<style scoped>\n",
       "    .dataframe tbody tr th:only-of-type {\n",
       "        vertical-align: middle;\n",
       "    }\n",
       "\n",
       "    .dataframe tbody tr th {\n",
       "        vertical-align: top;\n",
       "    }\n",
       "\n",
       "    .dataframe thead th {\n",
       "        text-align: right;\n",
       "    }\n",
       "</style>\n",
       "<table border=\"1\" class=\"dataframe\">\n",
       "  <thead>\n",
       "    <tr style=\"text-align: right;\">\n",
       "      <th></th>\n",
       "      <th>Event.Id</th>\n",
       "      <th>Investigation.Type</th>\n",
       "      <th>Accident.Number</th>\n",
       "      <th>Event.Date</th>\n",
       "      <th>Location</th>\n",
       "      <th>Country</th>\n",
       "      <th>Latitude</th>\n",
       "      <th>Longitude</th>\n",
       "      <th>Airport.Code</th>\n",
       "      <th>Airport.Name</th>\n",
       "      <th>...</th>\n",
       "      <th>Purpose.of.flight</th>\n",
       "      <th>Air.carrier</th>\n",
       "      <th>Total.Fatal.Injuries</th>\n",
       "      <th>Total.Serious.Injuries</th>\n",
       "      <th>Total.Minor.Injuries</th>\n",
       "      <th>Total.Uninjured</th>\n",
       "      <th>Weather.Condition</th>\n",
       "      <th>Broad.phase.of.flight</th>\n",
       "      <th>Report.Status</th>\n",
       "      <th>Publication.Date</th>\n",
       "    </tr>\n",
       "  </thead>\n",
       "  <tbody>\n",
       "    <tr>\n",
       "      <th>0</th>\n",
       "      <td>20001218X45444</td>\n",
       "      <td>Accident</td>\n",
       "      <td>SEA87LA080</td>\n",
       "      <td>1948-10-24</td>\n",
       "      <td>MOOSE CREEK, ID</td>\n",
       "      <td>United States</td>\n",
       "      <td>NaN</td>\n",
       "      <td>NaN</td>\n",
       "      <td>NaN</td>\n",
       "      <td>NaN</td>\n",
       "      <td>...</td>\n",
       "      <td>Personal</td>\n",
       "      <td>NaN</td>\n",
       "      <td>2.0</td>\n",
       "      <td>0.0</td>\n",
       "      <td>0.0</td>\n",
       "      <td>0.0</td>\n",
       "      <td>UNK</td>\n",
       "      <td>Cruise</td>\n",
       "      <td>Probable Cause</td>\n",
       "      <td>NaN</td>\n",
       "    </tr>\n",
       "    <tr>\n",
       "      <th>1</th>\n",
       "      <td>20001218X45447</td>\n",
       "      <td>Accident</td>\n",
       "      <td>LAX94LA336</td>\n",
       "      <td>1962-07-19</td>\n",
       "      <td>BRIDGEPORT, CA</td>\n",
       "      <td>United States</td>\n",
       "      <td>NaN</td>\n",
       "      <td>NaN</td>\n",
       "      <td>NaN</td>\n",
       "      <td>NaN</td>\n",
       "      <td>...</td>\n",
       "      <td>Personal</td>\n",
       "      <td>NaN</td>\n",
       "      <td>4.0</td>\n",
       "      <td>0.0</td>\n",
       "      <td>0.0</td>\n",
       "      <td>0.0</td>\n",
       "      <td>UNK</td>\n",
       "      <td>Unknown</td>\n",
       "      <td>Probable Cause</td>\n",
       "      <td>19-09-1996</td>\n",
       "    </tr>\n",
       "    <tr>\n",
       "      <th>2</th>\n",
       "      <td>20061025X01555</td>\n",
       "      <td>Accident</td>\n",
       "      <td>NYC07LA005</td>\n",
       "      <td>1974-08-30</td>\n",
       "      <td>Saltville, VA</td>\n",
       "      <td>United States</td>\n",
       "      <td>36.922223</td>\n",
       "      <td>-81.878056</td>\n",
       "      <td>NaN</td>\n",
       "      <td>NaN</td>\n",
       "      <td>...</td>\n",
       "      <td>Personal</td>\n",
       "      <td>NaN</td>\n",
       "      <td>3.0</td>\n",
       "      <td>NaN</td>\n",
       "      <td>NaN</td>\n",
       "      <td>NaN</td>\n",
       "      <td>IMC</td>\n",
       "      <td>Cruise</td>\n",
       "      <td>Probable Cause</td>\n",
       "      <td>26-02-2007</td>\n",
       "    </tr>\n",
       "    <tr>\n",
       "      <th>3</th>\n",
       "      <td>20001218X45448</td>\n",
       "      <td>Accident</td>\n",
       "      <td>LAX96LA321</td>\n",
       "      <td>1977-06-19</td>\n",
       "      <td>EUREKA, CA</td>\n",
       "      <td>United States</td>\n",
       "      <td>NaN</td>\n",
       "      <td>NaN</td>\n",
       "      <td>NaN</td>\n",
       "      <td>NaN</td>\n",
       "      <td>...</td>\n",
       "      <td>Personal</td>\n",
       "      <td>NaN</td>\n",
       "      <td>2.0</td>\n",
       "      <td>0.0</td>\n",
       "      <td>0.0</td>\n",
       "      <td>0.0</td>\n",
       "      <td>IMC</td>\n",
       "      <td>Cruise</td>\n",
       "      <td>Probable Cause</td>\n",
       "      <td>12-09-2000</td>\n",
       "    </tr>\n",
       "    <tr>\n",
       "      <th>4</th>\n",
       "      <td>20041105X01764</td>\n",
       "      <td>Accident</td>\n",
       "      <td>CHI79FA064</td>\n",
       "      <td>1979-08-02</td>\n",
       "      <td>Canton, OH</td>\n",
       "      <td>United States</td>\n",
       "      <td>NaN</td>\n",
       "      <td>NaN</td>\n",
       "      <td>NaN</td>\n",
       "      <td>NaN</td>\n",
       "      <td>...</td>\n",
       "      <td>Personal</td>\n",
       "      <td>NaN</td>\n",
       "      <td>1.0</td>\n",
       "      <td>2.0</td>\n",
       "      <td>NaN</td>\n",
       "      <td>0.0</td>\n",
       "      <td>VMC</td>\n",
       "      <td>Approach</td>\n",
       "      <td>Probable Cause</td>\n",
       "      <td>16-04-1980</td>\n",
       "    </tr>\n",
       "  </tbody>\n",
       "</table>\n",
       "<p>5 rows × 31 columns</p>\n",
       "</div>"
      ],
      "text/plain": [
       "         Event.Id Investigation.Type Accident.Number  Event.Date  \\\n",
       "0  20001218X45444           Accident      SEA87LA080  1948-10-24   \n",
       "1  20001218X45447           Accident      LAX94LA336  1962-07-19   \n",
       "2  20061025X01555           Accident      NYC07LA005  1974-08-30   \n",
       "3  20001218X45448           Accident      LAX96LA321  1977-06-19   \n",
       "4  20041105X01764           Accident      CHI79FA064  1979-08-02   \n",
       "\n",
       "          Location        Country   Latitude   Longitude Airport.Code  \\\n",
       "0  MOOSE CREEK, ID  United States        NaN         NaN          NaN   \n",
       "1   BRIDGEPORT, CA  United States        NaN         NaN          NaN   \n",
       "2    Saltville, VA  United States  36.922223  -81.878056          NaN   \n",
       "3       EUREKA, CA  United States        NaN         NaN          NaN   \n",
       "4       Canton, OH  United States        NaN         NaN          NaN   \n",
       "\n",
       "  Airport.Name  ... Purpose.of.flight Air.carrier Total.Fatal.Injuries  \\\n",
       "0          NaN  ...          Personal         NaN                  2.0   \n",
       "1          NaN  ...          Personal         NaN                  4.0   \n",
       "2          NaN  ...          Personal         NaN                  3.0   \n",
       "3          NaN  ...          Personal         NaN                  2.0   \n",
       "4          NaN  ...          Personal         NaN                  1.0   \n",
       "\n",
       "  Total.Serious.Injuries Total.Minor.Injuries Total.Uninjured  \\\n",
       "0                    0.0                  0.0             0.0   \n",
       "1                    0.0                  0.0             0.0   \n",
       "2                    NaN                  NaN             NaN   \n",
       "3                    0.0                  0.0             0.0   \n",
       "4                    2.0                  NaN             0.0   \n",
       "\n",
       "  Weather.Condition  Broad.phase.of.flight   Report.Status Publication.Date  \n",
       "0               UNK                 Cruise  Probable Cause              NaN  \n",
       "1               UNK                Unknown  Probable Cause       19-09-1996  \n",
       "2               IMC                 Cruise  Probable Cause       26-02-2007  \n",
       "3               IMC                 Cruise  Probable Cause       12-09-2000  \n",
       "4               VMC               Approach  Probable Cause       16-04-1980  \n",
       "\n",
       "[5 rows x 31 columns]"
      ]
     },
     "execution_count": 2,
     "metadata": {},
     "output_type": "execute_result"
    }
   ],
   "source": [
    "# Loading the data to aviation_df and calling the first 5 rows\n",
    "df = pd.read_csv('data/raw_data/AviationData.csv', encoding='latin-1', low_memory=False)\n",
    "df.head()"
   ]
  },
  {
   "cell_type": "markdown",
   "metadata": {},
   "source": [
    "Copying the dataframe into a new copy to be used for data cleaning."
   ]
  },
  {
   "cell_type": "code",
   "execution_count": 3,
   "metadata": {},
   "outputs": [],
   "source": [
    "aviation_df = df.copy()"
   ]
  },
  {
   "cell_type": "markdown",
   "metadata": {},
   "source": [
    "In understanding the dataframe, `df.info()` is run to get the columns names, total entries, any missing values in the columns and the data types of the columns. Afterwards, `df.duplicated()` is run to find any duplicated values if any. `df.isna().sum()` is the applied to be able to find the count of missing values in the columns. "
   ]
  },
  {
   "cell_type": "code",
   "execution_count": 4,
   "metadata": {},
   "outputs": [
    {
     "name": "stdout",
     "output_type": "stream",
     "text": [
      "<class 'pandas.core.frame.DataFrame'>\n",
      "RangeIndex: 88889 entries, 0 to 88888\n",
      "Data columns (total 31 columns):\n",
      " #   Column                  Non-Null Count  Dtype  \n",
      "---  ------                  --------------  -----  \n",
      " 0   Event.Id                88889 non-null  object \n",
      " 1   Investigation.Type      88889 non-null  object \n",
      " 2   Accident.Number         88889 non-null  object \n",
      " 3   Event.Date              88889 non-null  object \n",
      " 4   Location                88837 non-null  object \n",
      " 5   Country                 88663 non-null  object \n",
      " 6   Latitude                34382 non-null  object \n",
      " 7   Longitude               34373 non-null  object \n",
      " 8   Airport.Code            50249 non-null  object \n",
      " 9   Airport.Name            52790 non-null  object \n",
      " 10  Injury.Severity         87889 non-null  object \n",
      " 11  Aircraft.damage         85695 non-null  object \n",
      " 12  Aircraft.Category       32287 non-null  object \n",
      " 13  Registration.Number     87572 non-null  object \n",
      " 14  Make                    88826 non-null  object \n",
      " 15  Model                   88797 non-null  object \n",
      " 16  Amateur.Built           88787 non-null  object \n",
      " 17  Number.of.Engines       82805 non-null  float64\n",
      " 18  Engine.Type             81812 non-null  object \n",
      " 19  FAR.Description         32023 non-null  object \n",
      " 20  Schedule                12582 non-null  object \n",
      " 21  Purpose.of.flight       82697 non-null  object \n",
      " 22  Air.carrier             16648 non-null  object \n",
      " 23  Total.Fatal.Injuries    77488 non-null  float64\n",
      " 24  Total.Serious.Injuries  76379 non-null  float64\n",
      " 25  Total.Minor.Injuries    76956 non-null  float64\n",
      " 26  Total.Uninjured         82977 non-null  float64\n",
      " 27  Weather.Condition       84397 non-null  object \n",
      " 28  Broad.phase.of.flight   61724 non-null  object \n",
      " 29  Report.Status           82508 non-null  object \n",
      " 30  Publication.Date        75118 non-null  object \n",
      "dtypes: float64(5), object(26)\n",
      "memory usage: 21.0+ MB\n"
     ]
    }
   ],
   "source": [
    "# Inspecting the information of aviation_df\n",
    "aviation_df.info() "
   ]
  },
  {
   "cell_type": "code",
   "execution_count": 5,
   "metadata": {},
   "outputs": [
    {
     "name": "stdout",
     "output_type": "stream",
     "text": [
      "The dataframe has 88889 rows and 31 columns.\n"
     ]
    }
   ],
   "source": [
    "# Finding the shape of the dataframe\n",
    "aviation_df.shape\n",
    "print(f'The dataframe has {aviation_df.shape[0]} rows and {aviation_df.shape[1]} columns.')"
   ]
  },
  {
   "cell_type": "code",
   "execution_count": 6,
   "metadata": {},
   "outputs": [
    {
     "data": {
      "text/html": [
       "<div>\n",
       "<style scoped>\n",
       "    .dataframe tbody tr th:only-of-type {\n",
       "        vertical-align: middle;\n",
       "    }\n",
       "\n",
       "    .dataframe tbody tr th {\n",
       "        vertical-align: top;\n",
       "    }\n",
       "\n",
       "    .dataframe thead th {\n",
       "        text-align: right;\n",
       "    }\n",
       "</style>\n",
       "<table border=\"1\" class=\"dataframe\">\n",
       "  <thead>\n",
       "    <tr style=\"text-align: right;\">\n",
       "      <th></th>\n",
       "      <th>Number.of.Engines</th>\n",
       "      <th>Total.Fatal.Injuries</th>\n",
       "      <th>Total.Serious.Injuries</th>\n",
       "      <th>Total.Minor.Injuries</th>\n",
       "      <th>Total.Uninjured</th>\n",
       "    </tr>\n",
       "  </thead>\n",
       "  <tbody>\n",
       "    <tr>\n",
       "      <th>count</th>\n",
       "      <td>82805.000000</td>\n",
       "      <td>77488.000000</td>\n",
       "      <td>76379.000000</td>\n",
       "      <td>76956.000000</td>\n",
       "      <td>82977.000000</td>\n",
       "    </tr>\n",
       "    <tr>\n",
       "      <th>mean</th>\n",
       "      <td>1.146585</td>\n",
       "      <td>0.647855</td>\n",
       "      <td>0.279881</td>\n",
       "      <td>0.357061</td>\n",
       "      <td>5.325440</td>\n",
       "    </tr>\n",
       "    <tr>\n",
       "      <th>std</th>\n",
       "      <td>0.446510</td>\n",
       "      <td>5.485960</td>\n",
       "      <td>1.544084</td>\n",
       "      <td>2.235625</td>\n",
       "      <td>27.913634</td>\n",
       "    </tr>\n",
       "    <tr>\n",
       "      <th>min</th>\n",
       "      <td>0.000000</td>\n",
       "      <td>0.000000</td>\n",
       "      <td>0.000000</td>\n",
       "      <td>0.000000</td>\n",
       "      <td>0.000000</td>\n",
       "    </tr>\n",
       "    <tr>\n",
       "      <th>25%</th>\n",
       "      <td>1.000000</td>\n",
       "      <td>0.000000</td>\n",
       "      <td>0.000000</td>\n",
       "      <td>0.000000</td>\n",
       "      <td>0.000000</td>\n",
       "    </tr>\n",
       "    <tr>\n",
       "      <th>50%</th>\n",
       "      <td>1.000000</td>\n",
       "      <td>0.000000</td>\n",
       "      <td>0.000000</td>\n",
       "      <td>0.000000</td>\n",
       "      <td>1.000000</td>\n",
       "    </tr>\n",
       "    <tr>\n",
       "      <th>75%</th>\n",
       "      <td>1.000000</td>\n",
       "      <td>0.000000</td>\n",
       "      <td>0.000000</td>\n",
       "      <td>0.000000</td>\n",
       "      <td>2.000000</td>\n",
       "    </tr>\n",
       "    <tr>\n",
       "      <th>max</th>\n",
       "      <td>8.000000</td>\n",
       "      <td>349.000000</td>\n",
       "      <td>161.000000</td>\n",
       "      <td>380.000000</td>\n",
       "      <td>699.000000</td>\n",
       "    </tr>\n",
       "  </tbody>\n",
       "</table>\n",
       "</div>"
      ],
      "text/plain": [
       "       Number.of.Engines  Total.Fatal.Injuries  Total.Serious.Injuries  \\\n",
       "count       82805.000000          77488.000000            76379.000000   \n",
       "mean            1.146585              0.647855                0.279881   \n",
       "std             0.446510              5.485960                1.544084   \n",
       "min             0.000000              0.000000                0.000000   \n",
       "25%             1.000000              0.000000                0.000000   \n",
       "50%             1.000000              0.000000                0.000000   \n",
       "75%             1.000000              0.000000                0.000000   \n",
       "max             8.000000            349.000000              161.000000   \n",
       "\n",
       "       Total.Minor.Injuries  Total.Uninjured  \n",
       "count          76956.000000     82977.000000  \n",
       "mean               0.357061         5.325440  \n",
       "std                2.235625        27.913634  \n",
       "min                0.000000         0.000000  \n",
       "25%                0.000000         0.000000  \n",
       "50%                0.000000         1.000000  \n",
       "75%                0.000000         2.000000  \n",
       "max              380.000000       699.000000  "
      ]
     },
     "execution_count": 6,
     "metadata": {},
     "output_type": "execute_result"
    }
   ],
   "source": [
    "# Summary statistics of numerical columns\n",
    "aviation_df.describe() "
   ]
  },
  {
   "cell_type": "code",
   "execution_count": 7,
   "metadata": {},
   "outputs": [
    {
     "data": {
      "text/plain": [
       "Event.Id                  87951\n",
       "Investigation.Type            2\n",
       "Accident.Number           88863\n",
       "Event.Date                14782\n",
       "Location                  27758\n",
       "Country                     219\n",
       "Latitude                  25589\n",
       "Longitude                 27154\n",
       "Airport.Code              10375\n",
       "Airport.Name              24871\n",
       "Injury.Severity             109\n",
       "Aircraft.damage               4\n",
       "Aircraft.Category            15\n",
       "Registration.Number       79105\n",
       "Make                       8237\n",
       "Model                     12318\n",
       "Amateur.Built                 2\n",
       "Number.of.Engines             7\n",
       "Engine.Type                  13\n",
       "FAR.Description              31\n",
       "Schedule                      3\n",
       "Purpose.of.flight            26\n",
       "Air.carrier               13590\n",
       "Total.Fatal.Injuries        125\n",
       "Total.Serious.Injuries       50\n",
       "Total.Minor.Injuries         57\n",
       "Total.Uninjured             379\n",
       "Weather.Condition             4\n",
       "Broad.phase.of.flight        12\n",
       "Report.Status             17075\n",
       "Publication.Date           2924\n",
       "dtype: int64"
      ]
     },
     "execution_count": 7,
     "metadata": {},
     "output_type": "execute_result"
    }
   ],
   "source": [
    "aviation_df.nunique() # Finding the number of unique values in each column"
   ]
  },
  {
   "cell_type": "code",
   "execution_count": 8,
   "metadata": {},
   "outputs": [
    {
     "name": "stdout",
     "output_type": "stream",
     "text": [
      "The document has 0 duplicated values.\n"
     ]
    }
   ],
   "source": [
    "# Inspecting for duplicated values in the dataframe\n",
    "aviation_df.duplicated().sum()\n",
    "print(f'The document has {aviation_df.duplicated().sum()} duplicated values.')"
   ]
  },
  {
   "cell_type": "code",
   "execution_count": 9,
   "metadata": {},
   "outputs": [
    {
     "data": {
      "text/plain": [
       "Event.Id                      0\n",
       "Investigation.Type            0\n",
       "Accident.Number               0\n",
       "Event.Date                    0\n",
       "Location                     52\n",
       "Country                     226\n",
       "Latitude                  54507\n",
       "Longitude                 54516\n",
       "Airport.Code              38640\n",
       "Airport.Name              36099\n",
       "Injury.Severity            1000\n",
       "Aircraft.damage            3194\n",
       "Aircraft.Category         56602\n",
       "Registration.Number        1317\n",
       "Make                         63\n",
       "Model                        92\n",
       "Amateur.Built               102\n",
       "Number.of.Engines          6084\n",
       "Engine.Type                7077\n",
       "FAR.Description           56866\n",
       "Schedule                  76307\n",
       "Purpose.of.flight          6192\n",
       "Air.carrier               72241\n",
       "Total.Fatal.Injuries      11401\n",
       "Total.Serious.Injuries    12510\n",
       "Total.Minor.Injuries      11933\n",
       "Total.Uninjured            5912\n",
       "Weather.Condition          4492\n",
       "Broad.phase.of.flight     27165\n",
       "Report.Status              6381\n",
       "Publication.Date          13771\n",
       "dtype: int64"
      ]
     },
     "execution_count": 9,
     "metadata": {},
     "output_type": "execute_result"
    }
   ],
   "source": [
    "# Inspecting missing values from aviation_df \n",
    "aviation_df.isna().sum() "
   ]
  },
  {
   "cell_type": "code",
   "execution_count": 10,
   "metadata": {},
   "outputs": [
    {
     "data": {
      "text/plain": [
       "Index(['Event.Id', 'Investigation.Type', 'Accident.Number', 'Event.Date',\n",
       "       'Location', 'Country', 'Latitude', 'Longitude', 'Airport.Code',\n",
       "       'Airport.Name', 'Injury.Severity', 'Aircraft.damage',\n",
       "       'Aircraft.Category', 'Registration.Number', 'Make', 'Model',\n",
       "       'Amateur.Built', 'Number.of.Engines', 'Engine.Type', 'FAR.Description',\n",
       "       'Schedule', 'Purpose.of.flight', 'Air.carrier', 'Total.Fatal.Injuries',\n",
       "       'Total.Serious.Injuries', 'Total.Minor.Injuries', 'Total.Uninjured',\n",
       "       'Weather.Condition', 'Broad.phase.of.flight', 'Report.Status',\n",
       "       'Publication.Date'],\n",
       "      dtype='object')"
      ]
     },
     "execution_count": 10,
     "metadata": {},
     "output_type": "execute_result"
    }
   ],
   "source": [
    "# Checking the names of the dataframe's columns\n",
    "aviation_df.columns   "
   ]
  },
  {
   "cell_type": "markdown",
   "metadata": {},
   "source": [
    "#### Summary of the Dataset\n",
    "- The dataset has 31 columns and 88889 rows. \n",
    "- The datatypes include objects and floats. \n",
    "- Just 4 columns do not have missing values i.e. `Event.Id`, `Investigation.Type`, `Accident.Number` and `Event.Date`"
   ]
  },
  {
   "cell_type": "markdown",
   "metadata": {},
   "source": [
    "### Cleaning and Normalizing the Data"
   ]
  },
  {
   "cell_type": "markdown",
   "metadata": {},
   "source": [
    "After identyfing the dataframe's information, shape, the names of the columns, the summary statistics of numerical columns, the data cleaning process commences. First, there are certain columns with many missing values and may not be of much help eventually in the analysis. These include `Latitude`, `Longitude`, `FAR.Description`, `Air.carrier`, `Aircraft.Category`, `Airport.Name`, `Airport.Code`, `Number.of.Engine`, `Registration.Number`, `Report.Status`, `Publication.Date` and `Schedule` columns. "
   ]
  },
  {
   "cell_type": "code",
   "execution_count": 11,
   "metadata": {},
   "outputs": [],
   "source": [
    "# Dropping the 'Latitude', 'Longitude', 'FAR.Description', 'Air.carrier', 'Aircraft.Category', and 'Schedule'columns\n",
    "aviation_df = aviation_df.drop(['Latitude', 'Longitude', 'FAR.Description', 'Air.carrier', 'Aircraft.Category', 'Airport.Code', 'Airport.Name', 'Number.of.Engines', 'Registration.Number', 'Report.Status', 'Publication.Date', 'Schedule'], axis=1)"
   ]
  },
  {
   "cell_type": "code",
   "execution_count": 12,
   "metadata": {},
   "outputs": [
    {
     "name": "stdout",
     "output_type": "stream",
     "text": [
      "<class 'pandas.core.frame.DataFrame'>\n",
      "RangeIndex: 88889 entries, 0 to 88888\n",
      "Data columns (total 19 columns):\n",
      " #   Column                  Non-Null Count  Dtype  \n",
      "---  ------                  --------------  -----  \n",
      " 0   Event.Id                88889 non-null  object \n",
      " 1   Investigation.Type      88889 non-null  object \n",
      " 2   Accident.Number         88889 non-null  object \n",
      " 3   Event.Date              88889 non-null  object \n",
      " 4   Location                88837 non-null  object \n",
      " 5   Country                 88663 non-null  object \n",
      " 6   Injury.Severity         87889 non-null  object \n",
      " 7   Aircraft.damage         85695 non-null  object \n",
      " 8   Make                    88826 non-null  object \n",
      " 9   Model                   88797 non-null  object \n",
      " 10  Amateur.Built           88787 non-null  object \n",
      " 11  Engine.Type             81812 non-null  object \n",
      " 12  Purpose.of.flight       82697 non-null  object \n",
      " 13  Total.Fatal.Injuries    77488 non-null  float64\n",
      " 14  Total.Serious.Injuries  76379 non-null  float64\n",
      " 15  Total.Minor.Injuries    76956 non-null  float64\n",
      " 16  Total.Uninjured         82977 non-null  float64\n",
      " 17  Weather.Condition       84397 non-null  object \n",
      " 18  Broad.phase.of.flight   61724 non-null  object \n",
      "dtypes: float64(4), object(15)\n",
      "memory usage: 12.9+ MB\n"
     ]
    }
   ],
   "source": [
    "# Checking to see if the columns have been dropped.\n",
    "aviation_df.info()"
   ]
  },
  {
   "cell_type": "markdown",
   "metadata": {},
   "source": [
    "Some values in the `Make` column may have been entered differently but are the same. You can see from the above output, values such as `Boeing` and `BOEING` may just mean the same `Make`. In this case, we have to convert the column values to title case, the strip any whitespaces and then group them together. "
   ]
  },
  {
   "cell_type": "code",
   "execution_count": 13,
   "metadata": {},
   "outputs": [
    {
     "data": {
      "text/plain": [
       "Cessna      27149\n",
       "Piper       14870\n",
       "Beech        5372\n",
       "Boeing       2745\n",
       "Bell         2722\n",
       "Mooney       1334\n",
       "Robinson     1230\n",
       "Grumman      1172\n",
       "Bellanca     1045\n",
       "Hughes        932\n",
       "Name: Make, dtype: int64"
      ]
     },
     "execution_count": 13,
     "metadata": {},
     "output_type": "execute_result"
    }
   ],
   "source": [
    "aviation_df['Make'] = aviation_df['Make'].str.title().str.strip()\n",
    "aviation_df['Make'].value_counts().head(10)"
   ]
  },
  {
   "cell_type": "code",
   "execution_count": 14,
   "metadata": {},
   "outputs": [],
   "source": [
    "# Replacing missing values in the columns with missing values\n",
    "aviation_df['Total.Fatal.Injuries'].fillna(0, inplace = True)\n",
    "aviation_df['Total.Serious.Injuries'].fillna(0, inplace = True)\n",
    "aviation_df['Total.Minor.Injuries'].fillna(0, inplace = True)\n",
    "aviation_df['Total.Uninjured'].fillna(0, inplace = True)\n",
    "aviation_df['Broad.phase.of.flight'].fillna('Unknown',inplace = True)\n",
    "aviation_df['Weather.Condition'].fillna('Unknown',inplace = True)\n",
    "aviation_df['Aircraft.damage'].fillna('Unknown',inplace=True)\n",
    "aviation_df['Engine.Type'].fillna('Unknown',inplace=True)\n",
    "aviation_df['Purpose.of.flight'].fillna('Unknown',inplace=True) \n",
    "aviation_df['Amateur.Built'].fillna('Unknown',inplace=True)\n",
    "aviation_df['Injury.Severity'].fillna('Unknown',inplace=True)\n",
    "aviation_df['Location'].fillna('Unknown',inplace=True)\n",
    "aviation_df['Country'].fillna('Unknown',inplace=True)\n",
    "aviation_df['Make'].fillna(aviation_df['Make'].mode()[0], inplace=True)\n",
    "aviation_df['Model'].fillna(aviation_df['Model'].mode()[0], inplace=True)"
   ]
  },
  {
   "cell_type": "code",
   "execution_count": 15,
   "metadata": {},
   "outputs": [
    {
     "data": {
      "text/plain": [
       "Event.Id                  0\n",
       "Investigation.Type        0\n",
       "Accident.Number           0\n",
       "Event.Date                0\n",
       "Location                  0\n",
       "Country                   0\n",
       "Injury.Severity           0\n",
       "Aircraft.damage           0\n",
       "Make                      0\n",
       "Model                     0\n",
       "Amateur.Built             0\n",
       "Engine.Type               0\n",
       "Purpose.of.flight         0\n",
       "Total.Fatal.Injuries      0\n",
       "Total.Serious.Injuries    0\n",
       "Total.Minor.Injuries      0\n",
       "Total.Uninjured           0\n",
       "Weather.Condition         0\n",
       "Broad.phase.of.flight     0\n",
       "dtype: int64"
      ]
     },
     "execution_count": 15,
     "metadata": {},
     "output_type": "execute_result"
    }
   ],
   "source": [
    "aviation_df.isna().sum()"
   ]
  },
  {
   "cell_type": "code",
   "execution_count": 16,
   "metadata": {},
   "outputs": [],
   "source": [
    "# Maintaining consistency in the `Weather.Condition' column \n",
    "aviation_df['Weather.Condition'].replace({'UNK': 'Unknown', 'Unk': 'Unknown'}, inplace=True)"
   ]
  },
  {
   "cell_type": "code",
   "execution_count": 17,
   "metadata": {},
   "outputs": [],
   "source": [
    "# Maintaining consistency in the 'Engine.Type' column\n",
    "aviation_df['Engine.Type'].replace({'UNK':'Unknown', 'None': 'Unknown', 'NONE': 'Unknown'}, inplace=True)\n"
   ]
  },
  {
   "cell_type": "markdown",
   "metadata": {},
   "source": [
    "The aviation industry underwent significant changes in the 1980s, including advancements in technology, stricter safety regulations and improved reporting systems. This therefore warranted dropping data earlier than 1982. "
   ]
  },
  {
   "cell_type": "code",
   "execution_count": 18,
   "metadata": {},
   "outputs": [],
   "source": [
    "aviation_df = aviation_df[aviation_df['Event.Date'] >= '1982-01-01']"
   ]
  },
  {
   "cell_type": "markdown",
   "metadata": {},
   "source": [
    "Among the columns is `Event.Date` column that its data type is an object. To be able to find the year and months of the event, best case is to convert the `Event.Date` column to a Datetime data type. There after, add new columns of `Month` and `Year`.  "
   ]
  },
  {
   "cell_type": "code",
   "execution_count": 19,
   "metadata": {},
   "outputs": [
    {
     "name": "stdout",
     "output_type": "stream",
     "text": [
      "<class 'pandas.core.frame.DataFrame'>\n",
      "Int64Index: 88882 entries, 7 to 88888\n",
      "Data columns (total 19 columns):\n",
      " #   Column                  Non-Null Count  Dtype         \n",
      "---  ------                  --------------  -----         \n",
      " 0   Event.Id                88882 non-null  object        \n",
      " 1   Investigation.Type      88882 non-null  object        \n",
      " 2   Accident.Number         88882 non-null  object        \n",
      " 3   Event.Date              88882 non-null  datetime64[ns]\n",
      " 4   Location                88882 non-null  object        \n",
      " 5   Country                 88882 non-null  object        \n",
      " 6   Injury.Severity         88882 non-null  object        \n",
      " 7   Aircraft.damage         88882 non-null  object        \n",
      " 8   Make                    88882 non-null  object        \n",
      " 9   Model                   88882 non-null  object        \n",
      " 10  Amateur.Built           88882 non-null  object        \n",
      " 11  Engine.Type             88882 non-null  object        \n",
      " 12  Purpose.of.flight       88882 non-null  object        \n",
      " 13  Total.Fatal.Injuries    88882 non-null  float64       \n",
      " 14  Total.Serious.Injuries  88882 non-null  float64       \n",
      " 15  Total.Minor.Injuries    88882 non-null  float64       \n",
      " 16  Total.Uninjured         88882 non-null  float64       \n",
      " 17  Weather.Condition       88882 non-null  object        \n",
      " 18  Broad.phase.of.flight   88882 non-null  object        \n",
      "dtypes: datetime64[ns](1), float64(4), object(14)\n",
      "memory usage: 13.6+ MB\n"
     ]
    }
   ],
   "source": [
    "# Converting the 'Event.Date' to datetime datatype\n",
    "aviation_df['Event.Date'] = pd.to_datetime(aviation_df['Event.Date'])\n",
    "aviation_df.info() # To check the dtype of 'Event.Date' column"
   ]
  },
  {
   "cell_type": "code",
   "execution_count": 20,
   "metadata": {},
   "outputs": [],
   "source": [
    "# Adding the 'Year' and 'Month' columns to the aviation_df\n",
    "aviation_df['Year'] = aviation_df['Event.Date'].dt.year\n",
    "aviation_df['Month'] = aviation_df['Event.Date'].dt.month_name()"
   ]
  },
  {
   "cell_type": "code",
   "execution_count": 21,
   "metadata": {},
   "outputs": [
    {
     "data": {
      "text/plain": [
       "7     1982\n",
       "8     1982\n",
       "9     1982\n",
       "10    1982\n",
       "11    1982\n",
       "Name: Year, dtype: int64"
      ]
     },
     "execution_count": 21,
     "metadata": {},
     "output_type": "execute_result"
    }
   ],
   "source": [
    "aviation_df['Year'].head() # Checking to see if the 'Year' column has been added\n"
   ]
  },
  {
   "cell_type": "code",
   "execution_count": 22,
   "metadata": {},
   "outputs": [
    {
     "data": {
      "text/plain": [
       "7     January\n",
       "8     January\n",
       "9     January\n",
       "10    January\n",
       "11    January\n",
       "Name: Month, dtype: object"
      ]
     },
     "execution_count": 22,
     "metadata": {},
     "output_type": "execute_result"
    }
   ],
   "source": [
    "aviation_df['Month'].head() # Checking to see if the 'Month' column has been added"
   ]
  },
  {
   "cell_type": "code",
   "execution_count": 23,
   "metadata": {},
   "outputs": [
    {
     "data": {
      "text/plain": [
       "Index(['Event.Id', 'Investigation.Type', 'Accident.Number', 'Event.Date',\n",
       "       'Location', 'Country', 'Injury.Severity', 'Aircraft.damage', 'Make',\n",
       "       'Model', 'Amateur.Built', 'Engine.Type', 'Purpose.of.flight',\n",
       "       'Total.Fatal.Injuries', 'Total.Serious.Injuries',\n",
       "       'Total.Minor.Injuries', 'Total.Uninjured', 'Weather.Condition',\n",
       "       'Broad.phase.of.flight', 'Year', 'Month', 'Total.Injuries'],\n",
       "      dtype='object')"
      ]
     },
     "execution_count": 23,
     "metadata": {},
     "output_type": "execute_result"
    }
   ],
   "source": [
    "# Adding 'Total_Injuries' column to sum all the injured i.e. 'Total.Fatal.Injuries', 'Total.Serious.Injuries' and 'Total.Minor.Injuries'\n",
    "aviation_df['Total.Injuries'] = aviation_df['Total.Fatal.Injuries'] + aviation_df['Total.Serious.Injuries'] + aviation_df['Total.Minor.Injuries']\n",
    "aviation_df.columns # Checking to see if the column has been added"
   ]
  },
  {
   "cell_type": "markdown",
   "metadata": {},
   "source": [
    "Looping through columns with numerical values to check for outliers. The columns include: `Total.Fatal.Injuries`, `Total.Serious.Injuries`, `Total.Minor.Injuries`, `Total.Injuries` and `Total.Uninjured`. "
   ]
  },
  {
   "cell_type": "code",
   "execution_count": 24,
   "metadata": {},
   "outputs": [
    {
     "data": {
      "image/png": "[encoded data removed]",
      "text/plain": [
       "<Figure size 432x288 with 1 Axes>"
      ]
     },
     "metadata": {
      "needs_background": "light"
     },
     "output_type": "display_data"
    },
    {
     "data": {
      "image/png": "[encoded data removed]",
      "text/plain": [
       "<Figure size 432x288 with 1 Axes>"
      ]
     },
     "metadata": {
      "needs_background": "light"
     },
     "output_type": "display_data"
    },
    {
     "data": {
      "image/png": "[encoded data removed]",
      "text/plain": [
       "<Figure size 432x288 with 1 Axes>"
      ]
     },
     "metadata": {
      "needs_background": "light"
     },
     "output_type": "display_data"
    },
    {
     "data": {
      "image/png": "[encoded data removed]",
      "text/plain": [
       "<Figure size 432x288 with 1 Axes>"
      ]
     },
     "metadata": {
      "needs_background": "light"
     },
     "output_type": "display_data"
    }
   ],
   "source": [
    "# List of columns to plot\n",
    "columns_to_plot = ['Total.Fatal.Injuries', 'Total.Serious.Injuries', 'Total.Minor.Injuries', 'Total.Uninjured']\n",
    "\n",
    "# Looping through each column and create a boxplot\n",
    "for column in columns_to_plot:\n",
    "    plt.boxplot(aviation_df[column])  # Create a boxplot for the current column\n",
    "    plt.title(f'Boxplot of {column}')  # Set the title dynamically based on the column name\n",
    "    plt.show()  # Display the plot"
   ]
  },
  {
   "cell_type": "code",
   "execution_count": 25,
   "metadata": {},
   "outputs": [
    {
     "data": {
      "text/plain": [
       "Event.Id                  0\n",
       "Investigation.Type        0\n",
       "Accident.Number           0\n",
       "Event.Date                0\n",
       "Location                  0\n",
       "Country                   0\n",
       "Injury.Severity           0\n",
       "Aircraft.damage           0\n",
       "Make                      0\n",
       "Model                     0\n",
       "Amateur.Built             0\n",
       "Engine.Type               0\n",
       "Purpose.of.flight         0\n",
       "Total.Fatal.Injuries      0\n",
       "Total.Serious.Injuries    0\n",
       "Total.Minor.Injuries      0\n",
       "Total.Uninjured           0\n",
       "Weather.Condition         0\n",
       "Broad.phase.of.flight     0\n",
       "Year                      0\n",
       "Month                     0\n",
       "Total.Injuries            0\n",
       "dtype: int64"
      ]
     },
     "execution_count": 25,
     "metadata": {},
     "output_type": "execute_result"
    }
   ],
   "source": [
    "aviation_df.isna().sum()"
   ]
  },
  {
   "cell_type": "code",
   "execution_count": 26,
   "metadata": {},
   "outputs": [],
   "source": [
    "aviation_df.to_csv('CleanedAviationData.csv', index=False)"
   ]
  },
  {
   "cell_type": "markdown",
   "metadata": {},
   "source": [
    "### Data Visualization and Analysis"
   ]
  },
  {
   "cell_type": "markdown",
   "metadata": {},
   "source": [
    "#### Objective #1 Analyze accident trends to understand aviation risks over time?"
   ]
  },
  {
   "cell_type": "markdown",
   "metadata": {},
   "source": [
    "In this objective, there are visualizations of the accidents over the years and the accident trend per month. "
   ]
  },
  {
   "cell_type": "code",
   "execution_count": 27,
   "metadata": {},
   "outputs": [
    {
     "data": {
      "image/png": "[encoded data removed]",
      "text/plain": [
       "<Figure size 720x432 with 1 Axes>"
      ]
     },
     "metadata": {
      "needs_background": "light"
     },
     "output_type": "display_data"
    }
   ],
   "source": [
    "accidents_per_year = aviation_df['Year'].value_counts().sort_index()\n",
    "accidents_per_year.plot(kind='line', figsize=(10, 6), title='Accidents Over the Years');"
   ]
  },
  {
   "cell_type": "markdown",
   "metadata": {},
   "source": [
    "In the above visualization, there seems to be reduced number of accidents over the years leading up to 2020. "
   ]
  },
  {
   "cell_type": "code",
   "execution_count": 28,
   "metadata": {},
   "outputs": [
    {
     "data": {
      "image/png": "[encoded data removed]",
      "text/plain": [
       "<Figure size 720x432 with 1 Axes>"
      ]
     },
     "metadata": {
      "needs_background": "light"
     },
     "output_type": "display_data"
    }
   ],
   "source": [
    "accidents_per_month = aviation_df['Month'].value_counts()\n",
    "accidents_per_month.plot(kind='bar', figsize=(10, 6), title='Accidents Per Month');"
   ]
  },
  {
   "cell_type": "markdown",
   "metadata": {},
   "source": [
    "In the above visualization, there appears to be more accidents in the month of July, August and June (which could be summer months in the United States)."
   ]
  },
  {
   "cell_type": "markdown",
   "metadata": {},
   "source": [
    "#### Objective #2 Determine the safest aircraft makes, models and the engine types."
   ]
  },
  {
   "cell_type": "markdown",
   "metadata": {},
   "source": [
    "In this objective, there are visualizations for aircraft makes, models and the number of incidents. Moreover, engine types in the aircraft are investigated to determine the number of incidents."
   ]
  },
  {
   "cell_type": "code",
   "execution_count": 29,
   "metadata": {},
   "outputs": [
    {
     "data": {
      "image/png": "[encoded data removed]",
      "text/plain": [
       "<Figure size 720x432 with 1 Axes>"
      ]
     },
     "metadata": {
      "needs_background": "light"
     },
     "output_type": "display_data"
    }
   ],
   "source": [
    "# Top 10 aircraft models with the most incidents\n",
    "top_models = aviation_df['Make'].value_counts().head(10)\n",
    "top_models.plot(kind='bar', figsize=(10, 6), title='Top 10 Aircraft Makes with Most Incidents')\n",
    "plt.xlabel('Aircraft Make')\n",
    "plt.ylabel('Number of Incidents')\n",
    "plt.show();"
   ]
  },
  {
   "cell_type": "markdown",
   "metadata": {},
   "source": [
    "In the above visualization, the Cessna make had incidents by almost twice as much as the second make, Piper. "
   ]
  },
  {
   "cell_type": "code",
   "execution_count": 30,
   "metadata": {},
   "outputs": [
    {
     "data": {
      "image/png": "[encoded data removed]",
      "text/plain": [
       "<Figure size 720x432 with 1 Axes>"
      ]
     },
     "metadata": {
      "needs_background": "light"
     },
     "output_type": "display_data"
    }
   ],
   "source": [
    "# Top 10 aircraft models with the most incidents\n",
    "top_models = aviation_df['Model'].value_counts().head(10)\n",
    "top_models.plot(kind='bar', figsize=(10, 6), title='Top 10 Aircraft Models with Most Incidents')\n",
    "plt.xlabel('Aircraft Models')\n",
    "plt.ylabel('Number of Incidents')\n",
    "plt.show();"
   ]
  },
  {
   "cell_type": "markdown",
   "metadata": {},
   "source": [
    "In the above visualization, the aircraft model '152' has the most incidents. "
   ]
  },
  {
   "cell_type": "code",
   "execution_count": 31,
   "metadata": {},
   "outputs": [
    {
     "data": {
      "image/png": "[encoded data removed]",
      "text/plain": [
       "<Figure size 720x432 with 1 Axes>"
      ]
     },
     "metadata": {
      "needs_background": "light"
     },
     "output_type": "display_data"
    }
   ],
   "source": [
    "# Bar chart for engine types\n",
    "aviation_df['Engine.Type'].value_counts().head().plot(kind='bar', figsize=(10, 6), title='Engine Types in Accidents')\n",
    "plt.xlabel('Engine Types')\n",
    "plt.ylabel('Number of Incidents')\n",
    "plt.show();"
   ]
  },
  {
   "cell_type": "markdown",
   "metadata": {},
   "source": [
    "In the above visualization, most of the incidents that occured were with aircraft with the reciprocating engine type. "
   ]
  },
  {
   "cell_type": "markdown",
   "metadata": {},
   "source": [
    "#### Objective #3 Evaluate the impact of weather conditions on aircraft safety. "
   ]
  },
  {
   "cell_type": "markdown",
   "metadata": {},
   "source": [
    "In understanding the different weather conditions in the aviation dataset, VMC in full is Visual Meteorological Conditions where the pilot can be able to maintain visual separation from the terrain and other aircraft where as IMC in full is Instrument Meteorological Conditions where the pilot relies on the aircrafts instruments for navigation and flight control. "
   ]
  },
  {
   "cell_type": "code",
   "execution_count": 32,
   "metadata": {},
   "outputs": [
    {
     "data": {
      "image/png": "[encoded data removed]",
      "text/plain": [
       "<Figure size 720x432 with 1 Axes>"
      ]
     },
     "metadata": {
      "needs_background": "light"
     },
     "output_type": "display_data"
    }
   ],
   "source": [
    "# Bar chart for weather conditions\n",
    "aviation_df['Weather.Condition'].value_counts().plot(kind='bar', figsize=(10, 6), title='Weather Conditions During Accidents')\n",
    "plt.xlabel('Weather Condition')\n",
    "plt.ylabel('Number of Incidents')\n",
    "plt.show();"
   ]
  },
  {
   "cell_type": "markdown",
   "metadata": {},
   "source": [
    "In the above visualization, it is alarming that most of the accidents happened when the pilot was able to see the terrain and other aircraft, meaning the weather conditions were not as dire compared to when they would necessarily have to rely on the computers of the aircraft. "
   ]
  },
  {
   "cell_type": "markdown",
   "metadata": {},
   "source": [
    "#### Objective #4 Assessing aircraft damage patterns to identify durable and reliable models."
   ]
  },
  {
   "cell_type": "code",
   "execution_count": 33,
   "metadata": {},
   "outputs": [
    {
     "data": {
      "image/png": "[encoded data removed]",
      "text/plain": [
       "<Figure size 720x432 with 1 Axes>"
      ]
     },
     "metadata": {
      "needs_background": "light"
     },
     "output_type": "display_data"
    }
   ],
   "source": [
    "# Bar chart for aircraft damage\n",
    "aviation_df['Aircraft.damage'].value_counts().plot(kind='bar', figsize=(10, 6), title='Aircraft Damage Types')\n",
    "plt.xlabel('Aircraft Damage')\n",
    "plt.ylabel('Number of Incidents')\n",
    "plt.show(); "
   ]
  },
  {
   "cell_type": "markdown",
   "metadata": {},
   "source": [
    "In the visualization above, most of the accidents had substantial damage on the aircraft. "
   ]
  },
  {
   "cell_type": "markdown",
   "metadata": {},
   "source": [
    "## Findings"
   ]
  },
  {
   "cell_type": "markdown",
   "metadata": {},
   "source": [
    "### Objective 1: Analyze Accident Trends Over Time"
   ]
  },
  {
   "cell_type": "markdown",
   "metadata": {},
   "source": [
    "Yearly Trends\n",
    "\n",
    "- There was a decline in the number of accidents over the years which may be due to improvements in the aviation safety measures and procedures or advancements in technology\n",
    "\n",
    "Monthly Trends\n",
    "\n",
    "- Certain months may have had higher accident rates possibly due to the seasons for example the summer seasons in June, July and August months. \n",
    "- Months with fewer accidents may indicate periods of reduced air traffic or favorable weather conditions. "
   ]
  },
  {
   "cell_type": "markdown",
   "metadata": {},
   "source": [
    "### Objective 2: Identify Aircraft Models with the most Incidents"
   ]
  },
  {
   "cell_type": "markdown",
   "metadata": {},
   "source": [
    "Aircraft Makes \n",
    "- Particular makes may have had a higher rate of accidents which could be due to their regular use and popularity.\n",
    "\n",
    "Aircraft Models\n",
    "- Certain models may have significantly higher incident rates which could be due to their popularity or design issues.\n",
    "- Models with fewer incidents may indicate better safety records or less frequent use.\n",
    "\n",
    "Engine Types\n",
    "- Specific engine types may be associated with higher incident rates possibly due to mechanical sophistication, maintenance problems or certain operational conditions.\n",
    "- Engine types with fewer incidents may indicate better realibility or suitability for certain conditions."
   ]
  },
  {
   "cell_type": "markdown",
   "metadata": {},
   "source": [
    "### Objective 3: Investigate the Impact of Weather Conditions \n"
   ]
  },
  {
   "cell_type": "markdown",
   "metadata": {},
   "source": [
    "Weather Conditions\n",
    "- A large proportion of accidents occuring under clear weather conditions may suggest that human error or mechanical failure is a significant factor.\n",
    "- Higher accident rates under adverse weather conditions may highlight the need for better weather forecasting, pilot training or equipment upgrades. "
   ]
  },
  {
   "cell_type": "markdown",
   "metadata": {},
   "source": [
    "### Objective 4: Analyze Aircraft Damage Patterns"
   ]
  },
  {
   "cell_type": "markdown",
   "metadata": {},
   "source": [
    "Types of Damage\n",
    "- Certain types of damage e.g. 'Destroyed' dominatig the dataset may indicate the severity of many incidents.\n",
    "- Less severe damage e.g. 'Substantial' may suggest incidents where safety measures or emergency responses were effective in minimizing harm. "
   ]
  },
  {
   "cell_type": "markdown",
   "metadata": {},
   "source": [
    "## Recommendations"
   ]
  },
  {
   "cell_type": "markdown",
   "metadata": {},
   "source": [
    "- The business should focus on low-risk aircraft models with the lowest incident rates and have a history of reliabity. They should consider avoiding models with high incident rates unless there are mitigation strategies in place. These would reduce operational risks and build trust with clients by prioritizing safer aircraft models.\n",
    "\n",
    "- The business should consider focusing on engine types with low incident rates and can be reliable and should implement predictive maintenance systems to monitor engine performance and prevent failures. These would minimize downtime and maintenance costs while ensuring operational safety and reliability. \n",
    "\n",
    "- The business should choose aircraft equipped with advanced weather detection systems and avionics to handle adverse weather conditions effectively. This would reduce weather-related risks and ensure safer operations in diverse environmental conditions. \n",
    "\n",
    "- The business should consider investing in aircraft with advanced safety features e.g. fire suppression systems and effective evacuation mechanisms. This would improve passenger safety and reduce the likelihood of catastrophic losses in the event of an incident. "
   ]
  },
  {
   "cell_type": "markdown",
   "metadata": {},
   "source": [
    "## Conclusions"
   ]
  },
  {
   "cell_type": "markdown",
   "metadata": {},
   "source": [
    "- The business should consider prioritizing low-risk aircraft models as they are the safest options for the business to invest in.\n",
    "\n",
    "- The business should emphasize reliable engine types as they are critical for ensuring operational safety and minimizing maintenance costs.\n",
    "\n",
    "- The business should consider investing in weather-resilient aircraft and training pilots to handle challenging conditions to reduce weather-related risks and ensure safer operations.\n",
    "\n",
    "- The business should consider investing in advanced safety features like fire suppression systems and effective evacuation mechanisms better equipped to handle emergencies. "
   ]
  }
 ],
 "metadata": {
  "kernelspec": {
   "display_name": "Python 3",
   "language": "python",
   "name": "python3"
  },
  "language_info": {
   "codemirror_mode": {
    "name": "ipython",
    "version": 3
   },
   "file_extension": ".py",
   "mimetype": "text/x-python",
   "name": "python",
   "nbconvert_exporter": "python",
   "pygments_lexer": "ipython3",
   "version": "3.8.5"
  }
 },
 "nbformat": 4,
 "nbformat_minor": 2
}
